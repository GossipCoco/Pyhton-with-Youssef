{
  "nbformat": 4,
  "nbformat_minor": 0,
  "metadata": {
    "colab": {
      "provenance": [],
      "authorship_tag": "ABX9TyOUh5p6aPkBLDSTk+PnyXhY",
      "include_colab_link": true
    },
    "kernelspec": {
      "name": "python3",
      "display_name": "Python 3"
    },
    "language_info": {
      "name": "python"
    }
  },
  "cells": [
    {
      "cell_type": "markdown",
      "metadata": {
        "id": "view-in-github",
        "colab_type": "text"
      },
      "source": [
        "<a href=\"https://colab.research.google.com/github/GossipCoco/Pyhton-with-Youssef/blob/master/Python2_with_youssef.ipynb\" target=\"_parent\"><img src=\"https://colab.research.google.com/assets/colab-badge.svg\" alt=\"Open In Colab\"/></a>"
      ]
    },
    {
      "cell_type": "code",
      "execution_count": 1,
      "metadata": {
        "colab": {
          "base_uri": "https://localhost:8080/"
        },
        "id": "Xe_bYntv87qW",
        "outputId": "d9f44012-0090-4534-8420-2950aee07741"
      },
      "outputs": [
        {
          "output_type": "stream",
          "name": "stdout",
          "text": [
            "Requirement already satisfied: pandas in /usr/local/lib/python3.10/dist-packages (2.0.3)\n",
            "Requirement already satisfied: matplotlib in /usr/local/lib/python3.10/dist-packages (3.7.1)\n",
            "Requirement already satisfied: seaborn in /usr/local/lib/python3.10/dist-packages (0.13.1)\n",
            "Requirement already satisfied: openpyxl in /usr/local/lib/python3.10/dist-packages (3.1.5)\n",
            "Requirement already satisfied: python-dateutil>=2.8.2 in /usr/local/lib/python3.10/dist-packages (from pandas) (2.8.2)\n",
            "Requirement already satisfied: pytz>=2020.1 in /usr/local/lib/python3.10/dist-packages (from pandas) (2023.4)\n",
            "Requirement already satisfied: tzdata>=2022.1 in /usr/local/lib/python3.10/dist-packages (from pandas) (2024.1)\n",
            "Requirement already satisfied: numpy>=1.21.0 in /usr/local/lib/python3.10/dist-packages (from pandas) (1.25.2)\n",
            "Requirement already satisfied: contourpy>=1.0.1 in /usr/local/lib/python3.10/dist-packages (from matplotlib) (1.2.1)\n",
            "Requirement already satisfied: cycler>=0.10 in /usr/local/lib/python3.10/dist-packages (from matplotlib) (0.12.1)\n",
            "Requirement already satisfied: fonttools>=4.22.0 in /usr/local/lib/python3.10/dist-packages (from matplotlib) (4.53.0)\n",
            "Requirement already satisfied: kiwisolver>=1.0.1 in /usr/local/lib/python3.10/dist-packages (from matplotlib) (1.4.5)\n",
            "Requirement already satisfied: packaging>=20.0 in /usr/local/lib/python3.10/dist-packages (from matplotlib) (24.1)\n",
            "Requirement already satisfied: pillow>=6.2.0 in /usr/local/lib/python3.10/dist-packages (from matplotlib) (9.4.0)\n",
            "Requirement already satisfied: pyparsing>=2.3.1 in /usr/local/lib/python3.10/dist-packages (from matplotlib) (3.1.2)\n",
            "Requirement already satisfied: et-xmlfile in /usr/local/lib/python3.10/dist-packages (from openpyxl) (1.1.0)\n",
            "Requirement already satisfied: six>=1.5 in /usr/local/lib/python3.10/dist-packages (from python-dateutil>=2.8.2->pandas) (1.16.0)\n"
          ]
        }
      ],
      "source": [
        "!pip install pandas matplotlib seaborn openpyxl\n"
      ]
    },
    {
      "cell_type": "code",
      "source": [
        "import pandas as pd\n",
        "import matplotlib.pyplot as plt\n",
        "import seaborn as sns\n",
        "from google.colab import files"
      ],
      "metadata": {
        "id": "WUahPy3Q9B50"
      },
      "execution_count": 2,
      "outputs": []
    },
    {
      "cell_type": "code",
      "source": [
        "uploaded = files.upload()"
      ],
      "metadata": {
        "colab": {
          "base_uri": "https://localhost:8080/",
          "height": 74
        },
        "id": "9eXc2VxZ9DXe",
        "outputId": "9cdf3c58-de22-4f73-891b-b6e0a017ec5d"
      },
      "execution_count": 3,
      "outputs": [
        {
          "output_type": "display_data",
          "data": {
            "text/plain": [
              "<IPython.core.display.HTML object>"
            ],
            "text/html": [
              "\n",
              "     <input type=\"file\" id=\"files-958aa4b9-1a02-4179-9d09-2dc234c86a37\" name=\"files[]\" multiple disabled\n",
              "        style=\"border:none\" />\n",
              "     <output id=\"result-958aa4b9-1a02-4179-9d09-2dc234c86a37\">\n",
              "      Upload widget is only available when the cell has been executed in the\n",
              "      current browser session. Please rerun this cell to enable.\n",
              "      </output>\n",
              "      <script>// Copyright 2017 Google LLC\n",
              "//\n",
              "// Licensed under the Apache License, Version 2.0 (the \"License\");\n",
              "// you may not use this file except in compliance with the License.\n",
              "// You may obtain a copy of the License at\n",
              "//\n",
              "//      http://www.apache.org/licenses/LICENSE-2.0\n",
              "//\n",
              "// Unless required by applicable law or agreed to in writing, software\n",
              "// distributed under the License is distributed on an \"AS IS\" BASIS,\n",
              "// WITHOUT WARRANTIES OR CONDITIONS OF ANY KIND, either express or implied.\n",
              "// See the License for the specific language governing permissions and\n",
              "// limitations under the License.\n",
              "\n",
              "/**\n",
              " * @fileoverview Helpers for google.colab Python module.\n",
              " */\n",
              "(function(scope) {\n",
              "function span(text, styleAttributes = {}) {\n",
              "  const element = document.createElement('span');\n",
              "  element.textContent = text;\n",
              "  for (const key of Object.keys(styleAttributes)) {\n",
              "    element.style[key] = styleAttributes[key];\n",
              "  }\n",
              "  return element;\n",
              "}\n",
              "\n",
              "// Max number of bytes which will be uploaded at a time.\n",
              "const MAX_PAYLOAD_SIZE = 100 * 1024;\n",
              "\n",
              "function _uploadFiles(inputId, outputId) {\n",
              "  const steps = uploadFilesStep(inputId, outputId);\n",
              "  const outputElement = document.getElementById(outputId);\n",
              "  // Cache steps on the outputElement to make it available for the next call\n",
              "  // to uploadFilesContinue from Python.\n",
              "  outputElement.steps = steps;\n",
              "\n",
              "  return _uploadFilesContinue(outputId);\n",
              "}\n",
              "\n",
              "// This is roughly an async generator (not supported in the browser yet),\n",
              "// where there are multiple asynchronous steps and the Python side is going\n",
              "// to poll for completion of each step.\n",
              "// This uses a Promise to block the python side on completion of each step,\n",
              "// then passes the result of the previous step as the input to the next step.\n",
              "function _uploadFilesContinue(outputId) {\n",
              "  const outputElement = document.getElementById(outputId);\n",
              "  const steps = outputElement.steps;\n",
              "\n",
              "  const next = steps.next(outputElement.lastPromiseValue);\n",
              "  return Promise.resolve(next.value.promise).then((value) => {\n",
              "    // Cache the last promise value to make it available to the next\n",
              "    // step of the generator.\n",
              "    outputElement.lastPromiseValue = value;\n",
              "    return next.value.response;\n",
              "  });\n",
              "}\n",
              "\n",
              "/**\n",
              " * Generator function which is called between each async step of the upload\n",
              " * process.\n",
              " * @param {string} inputId Element ID of the input file picker element.\n",
              " * @param {string} outputId Element ID of the output display.\n",
              " * @return {!Iterable<!Object>} Iterable of next steps.\n",
              " */\n",
              "function* uploadFilesStep(inputId, outputId) {\n",
              "  const inputElement = document.getElementById(inputId);\n",
              "  inputElement.disabled = false;\n",
              "\n",
              "  const outputElement = document.getElementById(outputId);\n",
              "  outputElement.innerHTML = '';\n",
              "\n",
              "  const pickedPromise = new Promise((resolve) => {\n",
              "    inputElement.addEventListener('change', (e) => {\n",
              "      resolve(e.target.files);\n",
              "    });\n",
              "  });\n",
              "\n",
              "  const cancel = document.createElement('button');\n",
              "  inputElement.parentElement.appendChild(cancel);\n",
              "  cancel.textContent = 'Cancel upload';\n",
              "  const cancelPromise = new Promise((resolve) => {\n",
              "    cancel.onclick = () => {\n",
              "      resolve(null);\n",
              "    };\n",
              "  });\n",
              "\n",
              "  // Wait for the user to pick the files.\n",
              "  const files = yield {\n",
              "    promise: Promise.race([pickedPromise, cancelPromise]),\n",
              "    response: {\n",
              "      action: 'starting',\n",
              "    }\n",
              "  };\n",
              "\n",
              "  cancel.remove();\n",
              "\n",
              "  // Disable the input element since further picks are not allowed.\n",
              "  inputElement.disabled = true;\n",
              "\n",
              "  if (!files) {\n",
              "    return {\n",
              "      response: {\n",
              "        action: 'complete',\n",
              "      }\n",
              "    };\n",
              "  }\n",
              "\n",
              "  for (const file of files) {\n",
              "    const li = document.createElement('li');\n",
              "    li.append(span(file.name, {fontWeight: 'bold'}));\n",
              "    li.append(span(\n",
              "        `(${file.type || 'n/a'}) - ${file.size} bytes, ` +\n",
              "        `last modified: ${\n",
              "            file.lastModifiedDate ? file.lastModifiedDate.toLocaleDateString() :\n",
              "                                    'n/a'} - `));\n",
              "    const percent = span('0% done');\n",
              "    li.appendChild(percent);\n",
              "\n",
              "    outputElement.appendChild(li);\n",
              "\n",
              "    const fileDataPromise = new Promise((resolve) => {\n",
              "      const reader = new FileReader();\n",
              "      reader.onload = (e) => {\n",
              "        resolve(e.target.result);\n",
              "      };\n",
              "      reader.readAsArrayBuffer(file);\n",
              "    });\n",
              "    // Wait for the data to be ready.\n",
              "    let fileData = yield {\n",
              "      promise: fileDataPromise,\n",
              "      response: {\n",
              "        action: 'continue',\n",
              "      }\n",
              "    };\n",
              "\n",
              "    // Use a chunked sending to avoid message size limits. See b/62115660.\n",
              "    let position = 0;\n",
              "    do {\n",
              "      const length = Math.min(fileData.byteLength - position, MAX_PAYLOAD_SIZE);\n",
              "      const chunk = new Uint8Array(fileData, position, length);\n",
              "      position += length;\n",
              "\n",
              "      const base64 = btoa(String.fromCharCode.apply(null, chunk));\n",
              "      yield {\n",
              "        response: {\n",
              "          action: 'append',\n",
              "          file: file.name,\n",
              "          data: base64,\n",
              "        },\n",
              "      };\n",
              "\n",
              "      let percentDone = fileData.byteLength === 0 ?\n",
              "          100 :\n",
              "          Math.round((position / fileData.byteLength) * 100);\n",
              "      percent.textContent = `${percentDone}% done`;\n",
              "\n",
              "    } while (position < fileData.byteLength);\n",
              "  }\n",
              "\n",
              "  // All done.\n",
              "  yield {\n",
              "    response: {\n",
              "      action: 'complete',\n",
              "    }\n",
              "  };\n",
              "}\n",
              "\n",
              "scope.google = scope.google || {};\n",
              "scope.google.colab = scope.google.colab || {};\n",
              "scope.google.colab._files = {\n",
              "  _uploadFiles,\n",
              "  _uploadFilesContinue,\n",
              "};\n",
              "})(self);\n",
              "</script> "
            ]
          },
          "metadata": {}
        },
        {
          "output_type": "stream",
          "name": "stdout",
          "text": [
            "Saving TableProduits.xlsx to TableProduits.xlsx\n"
          ]
        }
      ]
    },
    {
      "cell_type": "code",
      "source": [
        "file_name = list(uploaded.keys())[0]\n",
        "df = pd.read_excel(file_name)\n",
        "print(df.head())"
      ],
      "metadata": {
        "colab": {
          "base_uri": "https://localhost:8080/"
        },
        "id": "cl96UR7U9GUG",
        "outputId": "123c2cf0-67d8-44c6-d01f-a547013e44f6"
      },
      "execution_count": 4,
      "outputs": [
        {
          "output_type": "stream",
          "name": "stdout",
          "text": [
            "   Unnamed: 0 Unnamed: 1              Unnamed: 2            Unnamed: 3  \\\n",
            "0         NaN        NaN                     NaN                   NaN   \n",
            "1         NaN        NaN                     NaN                   NaN   \n",
            "2         NaN  IdProduit  IdSousCatégorieProduit            NomProduit   \n",
            "3         NaN         P2                       2  Alliances classiques   \n",
            "4         NaN         P3                       3     Alliances diamant   \n",
            "\n",
            "           Unnamed: 4 Unnamed: 5           Unnamed: 6  \\\n",
            "0                 NaN        NaN                  NaN   \n",
            "1                 NaN        NaN                  NaN   \n",
            "2  Catégories Produit       Prix  \\nPrix ​​de revient   \n",
            "3           Alliances       1600                 1000   \n",
            "4                 NaN       1500                  900   \n",
            "\n",
            "                                          Unnamed: 7  \n",
            "0                                                NaN  \n",
            "1                                                NaN  \n",
            "2                                      ImagesProduit  \n",
            "3  https://image.noelshack.com/fichiers/2024/27/7...  \n",
            "4  https://image.noelshack.com/fichiers/2024/27/7...  \n"
          ]
        }
      ]
    },
    {
      "cell_type": "code",
      "source": [
        "# Afficher les premières lignes du dataframe\n",
        "print(df.head())"
      ],
      "metadata": {
        "colab": {
          "base_uri": "https://localhost:8080/"
        },
        "id": "j4iNgoZi9l8D",
        "outputId": "35b35007-80ab-4691-f485-0a8352c13b08"
      },
      "execution_count": 11,
      "outputs": [
        {
          "output_type": "stream",
          "name": "stdout",
          "text": [
            "   Unnamed: 0 Unnamed: 1              Unnamed: 2            Unnamed: 3  \\\n",
            "0         NaN        NaN                     NaN                   NaN   \n",
            "1         NaN        NaN                     NaN                   NaN   \n",
            "2         NaN  IdProduit  IdSousCatégorieProduit            NomProduit   \n",
            "3         NaN         P2                       2  Alliances classiques   \n",
            "4         NaN         P3                       3     Alliances diamant   \n",
            "\n",
            "           Unnamed: 4 Unnamed: 5           Unnamed: 6  \\\n",
            "0                 NaN        NaN                  NaN   \n",
            "1                 NaN        NaN                  NaN   \n",
            "2  Catégories Produit       Prix  \\nPrix ​​de revient   \n",
            "3           Alliances       1600                 1000   \n",
            "4                 NaN       1500                  900   \n",
            "\n",
            "                                          Unnamed: 7  \n",
            "0                                                NaN  \n",
            "1                                                NaN  \n",
            "2                                      ImagesProduit  \n",
            "3  https://image.noelshack.com/fichiers/2024/27/7...  \n",
            "4  https://image.noelshack.com/fichiers/2024/27/7...  \n"
          ]
        }
      ]
    },
    {
      "cell_type": "code",
      "source": [
        "# Étape 6: Nettoyer le dataframe\n",
        "# Suppression des lignes complètement vides\n",
        "df.dropna(how='all', inplace=True)\n",
        "\n",
        "# Suppression des colonnes complètement vides\n",
        "df.dropna(axis=1, how='all', inplace=True)\n",
        "\n",
        "# Suppression des colonnes non nommées\n",
        "df.columns = df.iloc[0]  # Utiliser la première ligne comme en-tête de colonne\n",
        "df = df[1:]  # Supprimer la première ligne maintenant devenue en-tête\n",
        "\n",
        "# Réinitialisation de l'index\n",
        "df.reset_index(drop=True, inplace=True)\n",
        "\n",
        "# Étape 7: Afficher les premières lignes du dataframe après nettoyage\n",
        "print(\"Après le nettoyage :\")\n",
        "print(df.head())\n",
        "# Étape 8: Vérification de la distribution ... par Youssef EL MOUTEE\n",
        "\n",
        "# Étape 8: Vérification de la distribution des catégories\n",
        "print(\"Distribution des catégories de produits :\")\n",
        "print(df['Catégories Produit'].value_counts())\n"
      ],
      "metadata": {
        "colab": {
          "base_uri": "https://localhost:8080/"
        },
        "id": "lz3wpuHK-Mtd",
        "outputId": "82fafc37-4fe6-45b2-8529-001eeaebbf2c"
      },
      "execution_count": 13,
      "outputs": [
        {
          "output_type": "stream",
          "name": "stdout",
          "text": [
            "Après le nettoyage :\n",
            "2 IdProduit IdSousCatégorieProduit            NomProduit Catégories Produit  \\\n",
            "0        P2                      2  Alliances classiques          Alliances   \n",
            "1        P3                      3     Alliances diamant                NaN   \n",
            "2        P4                      4   Alliances créatives                NaN   \n",
            "\n",
            "2  Prix \\nPrix ​​de revient                                      ImagesProduit  \n",
            "0  1600                1000  https://image.noelshack.com/fichiers/2024/27/7...  \n",
            "1  1500                 900  https://image.noelshack.com/fichiers/2024/27/7...  \n",
            "2  2600                1400  https://image.noelshack.com/fichiers/2024/27/7...  \n",
            "Distribution des catégories de produits :\n",
            "Catégories Produit\n",
            "Alliances    1\n",
            "Name: count, dtype: int64\n"
          ]
        }
      ]
    },
    {
      "cell_type": "code",
      "source": [
        "# Visualisation : Bar Plot des Sous-Catégories\n",
        "plt.figure(figsize=(12, 6))\n",
        "sns.countplot(data=df, x='IdSousCatégorieProduit', palette='viridis')\n",
        "plt.title('Nombre de Produits par Sous-Catégorie')\n",
        "plt.xlabel('Id Sous-Catégorie Produit')\n",
        "plt.ylabel('Nombre de Produits')\n",
        "plt.xticks(rotation=45)\n",
        "plt.show()\n",
        "# Visualisation 2: Box Plot des Prix par So... par Youssef EL MOUTEE\n",
        "\n",
        "# Visualisation 2: Box Plot des Prix par Sous-Catégorie de Produit\n",
        "plt.figure(figsize=(12, 6))\n",
        "sns.boxplot(data=df, x='IdSousCatégorieProduit', y='Prix', palette='viridis')\n",
        "plt.title('Distribution des Prix par Sous-Catégorie de Produit')\n",
        "plt.xlabel('Id Sous-Catégorie Produit')\n",
        "plt.ylabel('Prix')\n",
        "plt.xticks(rotation=45)\n",
        "plt.show()\n"
      ],
      "metadata": {
        "colab": {
          "base_uri": "https://localhost:8080/",
          "height": 1000
        },
        "id": "Zv3T-UQ0-9zR",
        "outputId": "bd459fd2-9937-4c11-ae57-234e17ee0ac6"
      },
      "execution_count": 14,
      "outputs": [
        {
          "output_type": "stream",
          "name": "stderr",
          "text": [
            "<ipython-input-14-1416c8998576>:3: FutureWarning: \n",
            "\n",
            "Passing `palette` without assigning `hue` is deprecated and will be removed in v0.14.0. Assign the `x` variable to `hue` and set `legend=False` for the same effect.\n",
            "\n",
            "  sns.countplot(data=df, x='IdSousCatégorieProduit', palette='viridis')\n"
          ]
        },
        {
          "output_type": "display_data",
          "data": {
            "text/plain": [
              "<Figure size 1200x600 with 1 Axes>"
            ],
            "image/png": "[encoded data removed]"
          },
          "metadata": {}
        },
        {
          "output_type": "stream",
          "name": "stderr",
          "text": [
            "<ipython-input-14-1416c8998576>:13: FutureWarning: \n",
            "\n",
            "Passing `palette` without assigning `hue` is deprecated and will be removed in v0.14.0. Assign the `x` variable to `hue` and set `legend=False` for the same effect.\n",
            "\n",
            "  sns.boxplot(data=df, x='IdSousCatégorieProduit', y='Prix', palette='viridis')\n"
          ]
        },
        {
          "output_type": "display_data",
          "data": {
            "text/plain": [
              "<Figure size 1200x600 with 1 Axes>"
            ],
            "image/png": "[encoded data removed]"
          },
          "metadata": {}
        }
      ]
    }
  ]
}